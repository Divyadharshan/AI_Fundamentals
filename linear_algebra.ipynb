{
 "cells": [
  {
   "cell_type": "code",
   "execution_count": 6,
   "metadata": {},
   "outputs": [
    {
     "name": "stdout",
     "output_type": "stream",
     "text": [
      "Vector v :  [3 4 5]\n"
     ]
    }
   ],
   "source": [
    "import numpy as np\n",
    "v=np.array([3,4,5])\n",
    "print(\"Vector v : \",v)"
   ]
  },
  {
   "cell_type": "code",
   "execution_count": 7,
   "metadata": {},
   "outputs": [
    {
     "name": "stdout",
     "output_type": "stream",
     "text": [
      "Scalar s :  5\n"
     ]
    }
   ],
   "source": [
    "x=5\n",
    "print(\"Scalar s : \",x)"
   ]
  },
  {
   "cell_type": "code",
   "execution_count": 13,
   "metadata": {},
   "outputs": [
    {
     "name": "stdout",
     "output_type": "stream",
     "text": [
      "Matrix multiplication : \n",
      "[[ 8]\n",
      " [18]]\n"
     ]
    }
   ],
   "source": [
    "a=np.array([[1,2],[3,4]])\n",
    "b=np.array([[2],[3]])\n",
    "m=a.dot(b)\n",
    "print(\"Matrix multiplication : \")\n",
    "print(m)"
   ]
  },
  {
   "cell_type": "code",
   "execution_count": 25,
   "metadata": {},
   "outputs": [
    {
     "name": "stdout",
     "output_type": "stream",
     "text": [
      "The differentiation :  4*x**3\n",
      "The derivative at x = 2 :  32\n",
      "Approximate derivative at x = 2 :  32.00024000094004\n"
     ]
    }
   ],
   "source": [
    "from sympy import symbols, diff\n",
    "x = symbols(\"x\")\n",
    "f = x**4\n",
    "derivative = diff(f,x)\n",
    "print(\"The differentiation : \",derivative)\n",
    "deri_value = derivative.subs(x,2)\n",
    "print(\"The derivative at x = 2 : \",deri_value)\n",
    "\n",
    "def f(x):\n",
    "    return x**4\n",
    "\n",
    "def derivative_f(x,h=1e-5):\n",
    "    return (f(x+h)-f(x))/h\n",
    "\n",
    "print(\"Approximate derivative at x = 2 : \",derivative_f(2))"
   ]
  },
  {
   "cell_type": "code",
   "execution_count": null,
   "metadata": {},
   "outputs": [],
   "source": [
    "\"\"\" Data -> Clean up -> Learning Algorithm -> Training & Learning -> Loss -> Update understanding \n",
    "                                                   ^                                 |\n",
    "                                                   |                                 |\n",
    "                                                   -----------------------------------                                \n",
    "\"\"\""
   ]
  },
  {
   "cell_type": "code",
   "execution_count": 3,
   "metadata": {},
   "outputs": [
    {
     "ename": "SyntaxError",
     "evalue": "expected ':' (1407176429.py, line 54)",
     "output_type": "error",
     "traceback": [
      "\u001b[0;36m  Cell \u001b[0;32mIn[3], line 54\u001b[0;36m\u001b[0m\n\u001b[0;31m    def train(self,X,Y,num_iterations,)\u001b[0m\n\u001b[0m                                       ^\u001b[0m\n\u001b[0;31mSyntaxError\u001b[0m\u001b[0;31m:\u001b[0m expected ':'\n"
     ]
    }
   ],
   "source": [
    "import numpy as np\n",
    "import matplotlib.pyplot as plt\n",
    "\n",
    "class SimpleNeuralNetwork:\n",
    "    def __init__(self,input_size,hidden_size,output_size):\n",
    "        self.W1 = np.random.randn(hidden_size,input_size)*0.1\n",
    "        self.b1 = np.zeros((hidden_size,1))\n",
    "\n",
    "        self.W2 = np.random.randn(output_size,hidden_size)*0.1\n",
    "        self.b2 = np.zeros((output_size,1))\n",
    "\n",
    "    def relu(self,Z):\n",
    "        return np.maximum(0,Z)\n",
    "    \n",
    "    def relu_derivative(self,Z):\n",
    "        return Z>0\n",
    "    \n",
    "    def sigmoid(self,Z):\n",
    "        return 1/(1+np.exp(-Z))\n",
    "    \n",
    "    def forward_propagation(self,X):\n",
    "        Z1 = np.dot(self.W1,X)+self.b1\n",
    "        A1 = self.relu(Z1)\n",
    "        Z2 = np.dot(self.W1,A1)+self.b2\n",
    "        A2 = self.sigmoid(Z2)\n",
    "        return A2, (Z1,A1,Z2,A2)\n",
    "    \n",
    "    def compute_loss(self,A2,Y):\n",
    "        m = Y.shape[1]\n",
    "        loss = -1/m*np.sum(Y*np.log(A2+1e-8)+(1-Y)*\\\n",
    "                np.log(1-A2+1e-8))\n",
    "        return loss\n",
    "    \n",
    "    def backward_propagation(self,X,Y,cache):\n",
    "        m = X.shape()\n",
    "        (Z1,A1,Z2,A2)=cache\n",
    "        \n",
    "        dZ2= A2 + Y\n",
    "        dW2 = 1/m * np.dot(dZ2,A1.T)\n",
    "        db2 = 1/m * np.sum(dZ2,axis=1,keepdims=True)\n",
    "\n",
    "        dA1 = np.dot(self.W2.T, dZ2)\n",
    "        dZ1 = dA1*self.relu_derivative(Z1)\n",
    "        dW1 = 1/m*np.dot(dZ1,X.T)\n",
    "        db1 = 1/m*np.sum(dZ1,axis=1,keepdims=True)\n",
    "\n",
    "        return dW1,db1,dW2,db2 \n",
    "    \n",
    "    def update_parameters(self,dW1,db1,dW2,db2,learning_rate):\n",
    "        self.W1-=learning_rate*dW1\n",
    "        self.b1-=learning_rate*db1\n",
    "        self.W2-=learning_rate*dW2\n",
    "        self.b2-=learning_rate*db2\n",
    "    \n",
    "    def train(self,X,Y,num_iterations,learning_rate):\n",
    "        losses = []\n",
    "        for i in range(num_iterations):\n",
    "            A2,cache = self.forward_propagation(X)\n",
    "            loss = self.compute_loss(A2,Y)\n",
    "            losses.append(loss)\n",
    "            dW1,db1,dW2,db2=self.backward_propagation(X,Y,cache)\n",
    "            self.update_parameters(dW1,db1,dW2,db2,learning_rate)\n",
    "            if i%1000==0:\n",
    "                print(f\"iteration {i}, Loss: {loss:.4f}\")\n",
    "        return losses \n",
    "    \n",
    "    def predict(self,X):\n",
    "        A2,_ = self.forward_propagation(x)\n",
    "        return A2 > 0.5\n",
    "    \n",
    "    def simulate_neural_network():\n",
    "        np.random.seed(42)\n",
    "        X=np.random.randn(2,1000)\n",
    "        Y=np.logical_xor(X[0]>0,X[1]>0).astype(int).reshape(1,1000)\n",
    "\n",
    "        train_size = 800\n",
    "        X_train,X_test = X[:,:train_size],X[:,train_size:]\n",
    "        Y_train,Y_test = Y[:,:train_size],Y[:,train_size:]\n",
    "\n",
    "        nn=SimpleNeuralNetwork(input_size=2,hidden_size=16,output_size=1)\n",
    "        losses = nn.train(X_train,Y_train,num_iterations=50000,\\\n",
    "                          learning_rate=0.01)\n",
    "        \n",
    "        predictions = nn.predict(X_test)\n",
    "        accuracy = np.mean(predictions==Y_test)\n",
    "        print(f\"Test Accuracy : {accuracy*100:.2f}%\")\n",
    "        "
   ]
  }
 ],
 "metadata": {
  "kernelspec": {
   "display_name": "Python 3",
   "language": "python",
   "name": "python3"
  },
  "language_info": {
   "codemirror_mode": {
    "name": "ipython",
    "version": 3
   },
   "file_extension": ".py",
   "mimetype": "text/x-python",
   "name": "python",
   "nbconvert_exporter": "python",
   "pygments_lexer": "ipython3",
   "version": "3.12.5"
  }
 },
 "nbformat": 4,
 "nbformat_minor": 2
}
